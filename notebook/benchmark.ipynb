{
 "cells": [
  {
   "cell_type": "code",
   "execution_count": null,
   "metadata": {},
   "outputs": [],
   "source": [
    "using Revise\n",
    "import TensorCrossInterpolation as TCI\n",
    "using Plots\n",
    "using BenchmarkTools\n",
    "using Test"
   ]
  },
  {
   "cell_type": "code",
   "execution_count": null,
   "metadata": {},
   "outputs": [],
   "source": [
    "localdims = [2, 2, 2, 2, 2]\n",
    "localset = [collect(1:d) for d in localdims]\n",
    "leftindexset = [[1,1] for _ in 1:100]\n",
    "rightindexset = [[1,1] for _ in 1:100]\n",
    "\n",
    "module My\n",
    "import TensorCrossInterpolation as TCI\n",
    "struct TestFunction <: TCI.BatchEvaluator{Float64}\n",
    "    localset::Vector{Vector{Int}}\n",
    "    function TestFunction(localset)\n",
    "        new(localset)\n",
    "    end\n",
    "end\n",
    "\n",
    "(obj::TestFunction)(indexset)::Float64 = sum(indexset)\n",
    "function (obj::TestFunction)(leftindexset, rightindexset, ::Val{M})::Array{Float64,M+2} where {M}\n",
    "    nl = length(first(leftindexset))\n",
    "    result = [sum(vcat(l, collect(c), r)) for l in leftindexset, c in Iterators.product((1:length(d) for d in obj.localset[nl+1:nl+M])...), r in rightindexset]\n",
    "    return reshape(result, length(leftindexset), length.(obj.localset[nl+1:nl+M])..., length(rightindexset))\n",
    "end\n",
    "\n",
    "end\n",
    "\n",
    "f = TCI.CachedFunction{Float64}(My.TestFunction(localset), localdims)\n",
    "@assert TCI.isbatchevaluable(f)\n",
    "result = TCI._batchevaluate_dispatch(Float64, f, localset, leftindexset, rightindexset, Val(1))\n",
    "ref = [sum(vcat(l, c, r)) for l in leftindexset, c in localset[3], r in rightindexset]\n",
    "\n",
    "result ≈ ref"
   ]
  },
  {
   "cell_type": "code",
   "execution_count": null,
   "metadata": {},
   "outputs": [],
   "source": [
    "@code_warntype TCI._batchevaluate_dispatch(Float64, f, localset, leftindexset, rightindexset, Val(1))"
   ]
  },
  {
   "cell_type": "code",
   "execution_count": null,
   "metadata": {},
   "outputs": [],
   "source": [
    "function func(leftindexset, rightindexset, dims)\n",
    "    nl = length(first(leftindexset))\n",
    "    nr = length(first(rightindexset))\n",
    "    L = length(dims)\n",
    "\n",
    "    r = 0.0\n",
    "    for i in Iterators.product(leftindexset, (1:dims[l] for l in nl+1:L-nr)..., rightindexset)\n",
    "        r += 1.0\n",
    "    end\n",
    "    #return V[\n",
    "        1.0\n",
    "        #for i in Iterators.product(leftindexset, (1:dims[l] for l in nl+1:L-nr)..., rightindexset)\n",
    "    #]\n",
    "end"
   ]
  },
  {
   "cell_type": "code",
   "execution_count": null,
   "metadata": {},
   "outputs": [],
   "source": [
    "localdims = [2, 2, 2, 2, 2]\n",
    "x = [[1,1] for _ in 1:100]\n",
    "y = [[1,1] for _ in 1:100]\n",
    "@code_warntype func(x, y, localdims)"
   ]
  },
  {
   "cell_type": "code",
   "execution_count": null,
   "metadata": {},
   "outputs": [],
   "source": [
    "@code_warntype func(x, y, localdims)"
   ]
  },
  {
   "cell_type": "code",
   "execution_count": null,
   "metadata": {},
   "outputs": [],
   "source": [
    "function f()\n",
    "    return 2\n",
    "end\n",
    "\n",
    "function has_zero_arg_method(f)\n",
    "    methods_list = methodswith(typeof(f))\n",
    "    for m in methods_list\n",
    "        if m.nargs == 1  # 引数が自身の関数オブジェクトのみ（つまり引数なし）\n",
    "            return true\n",
    "        end\n",
    "    end\n",
    "    return false\n",
    "end\n",
    "\n",
    "@benchmark has_zero_arg_method(f)"
   ]
  },
  {
   "cell_type": "code",
   "execution_count": null,
   "metadata": {},
   "outputs": [],
   "source": [
    "function run(N, maxiter)\n",
    "    firstpivot = ones(Int, N)\n",
    "    qtt, ranks, errors = TCI.crossinterpolate(\n",
    "        Float64, x->randn(), fill(2, N), firstpivot; tolerance=0.0, maxiter=maxiter, verbosity=1\n",
    "    )\n",
    "end"
   ]
  },
  {
   "cell_type": "code",
   "execution_count": null,
   "metadata": {},
   "outputs": [],
   "source": [
    "# Compile\n",
    "run(10, 10)"
   ]
  },
  {
   "cell_type": "code",
   "execution_count": null,
   "metadata": {},
   "outputs": [],
   "source": [
    "Ds = [20, 40, 80, 160, 240, 400, 800, 1000]\n",
    "\n",
    "timings = Float64[]\n",
    "for maxiter in Ds\n",
    "    t1 = time_ns()\n",
    "    @time run(20, maxiter)\n",
    "    t2 = time_ns()\n",
    "    push!(timings, (t2-t1)*1e-9)\n",
    "end"
   ]
  },
  {
   "cell_type": "code",
   "execution_count": null,
   "metadata": {},
   "outputs": [],
   "source": [
    "p = plot(xaxis=:log, yaxis=:log)\n",
    "plot!(p, Ds, 1e-3*Ds.^2, label=\"D^2\")\n",
    "plot!(p, Ds, 1e-5*Ds.^3, label=\"D^3\")\n",
    "plot!(p, Ds, timings, marker=:cross)\n"
   ]
  },
  {
   "cell_type": "code",
   "execution_count": null,
   "metadata": {},
   "outputs": [],
   "source": []
  },
  {
   "cell_type": "code",
   "execution_count": null,
   "metadata": {},
   "outputs": [],
   "source": []
  }
 ],
 "metadata": {
  "kernelspec": {
   "display_name": "Julia 1.9.4",
   "language": "julia",
   "name": "julia-1.9"
  },
  "language_info": {
   "file_extension": ".jl",
   "mimetype": "application/julia",
   "name": "julia",
   "version": "1.9.4"
  },
  "orig_nbformat": 4
 },
 "nbformat": 4,
 "nbformat_minor": 2
}
