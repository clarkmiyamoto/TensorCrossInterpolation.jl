{
 "cells": [
  {
   "cell_type": "code",
   "execution_count": null,
   "metadata": {},
   "outputs": [],
   "source": [
    "import TensorCrossInterpolation as TCI\n",
    "using Plots"
   ]
  },
  {
   "cell_type": "code",
   "execution_count": null,
   "metadata": {},
   "outputs": [],
   "source": [
    "function run(N, maxiter)\n",
    "    firstpivot = ones(Int, N)\n",
    "    qtt, ranks, errors = TCI.crossinterpolate(\n",
    "        Float64, x->randn(), fill(2, N), firstpivot; tolerance=0.0, maxiter=maxiter, verbosity=1\n",
    "    )\n",
    "end"
   ]
  },
  {
   "cell_type": "code",
   "execution_count": null,
   "metadata": {},
   "outputs": [],
   "source": [
    "# Compile\n",
    "run(10, 10)"
   ]
  },
  {
   "cell_type": "code",
   "execution_count": null,
   "metadata": {},
   "outputs": [],
   "source": [
    "Ds = [20, 40, 80, 160, 240]\n",
    "\n",
    "timings = Float64[]\n",
    "for maxiter in Ds\n",
    "    t1 = time_ns()\n",
    "    @time run(20, maxiter)\n",
    "    t2 = time_ns()\n",
    "    push!(timings, (t2-t1)*1e-9)\n",
    "end"
   ]
  },
  {
   "cell_type": "code",
   "execution_count": null,
   "metadata": {},
   "outputs": [],
   "source": [
    "p = plot(xaxis=:log, yaxis=:log)\n",
    "plot!(p, Ds, 1e-3*Ds.^2, label=\"D^2\")\n",
    "plot!(p, Ds, 1e-4*Ds.^3, label=\"D^3\")\n",
    "plot!(p, Ds, timings, marker=:cross)\n"
   ]
  },
  {
   "cell_type": "code",
   "execution_count": null,
   "metadata": {},
   "outputs": [],
   "source": []
  }
 ],
 "metadata": {
  "kernelspec": {
   "display_name": "Julia 1.8.3",
   "language": "julia",
   "name": "julia-1.8"
  },
  "language_info": {
   "file_extension": ".jl",
   "mimetype": "application/julia",
   "name": "julia",
   "version": "1.8.3"
  },
  "orig_nbformat": 4
 },
 "nbformat": 4,
 "nbformat_minor": 2
}
